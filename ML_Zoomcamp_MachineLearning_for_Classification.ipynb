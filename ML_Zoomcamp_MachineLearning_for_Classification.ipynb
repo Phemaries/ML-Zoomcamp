{
 "cells": [
  {
   "cell_type": "markdown",
   "metadata": {},
   "source": [
    "## ML Zoomcamp Classification Assignment"
   ]
  },
  {
   "cell_type": "code",
   "execution_count": 1,
   "metadata": {},
   "outputs": [],
   "source": [
    "# import necessary libraries\n",
    "\n",
    "import pandas as pd\n",
    "import numpy as np\n",
    "\n",
    "import seaborn as sns\n",
    "from matplotlib import pyplot as plt\n",
    "%matplotlib inline"
   ]
  },
  {
   "cell_type": "code",
   "execution_count": 2,
   "metadata": {
    "scrolled": true
   },
   "outputs": [
    {
     "data": {
      "text/html": [
       "<div>\n",
       "<style scoped>\n",
       "    .dataframe tbody tr th:only-of-type {\n",
       "        vertical-align: middle;\n",
       "    }\n",
       "\n",
       "    .dataframe tbody tr th {\n",
       "        vertical-align: top;\n",
       "    }\n",
       "\n",
       "    .dataframe thead th {\n",
       "        text-align: right;\n",
       "    }\n",
       "</style>\n",
       "<table border=\"1\" class=\"dataframe\">\n",
       "  <thead>\n",
       "    <tr style=\"text-align: right;\">\n",
       "      <th></th>\n",
       "      <th>Make</th>\n",
       "      <th>Model</th>\n",
       "      <th>Year</th>\n",
       "      <th>Engine Fuel Type</th>\n",
       "      <th>Engine HP</th>\n",
       "      <th>Engine Cylinders</th>\n",
       "      <th>Transmission Type</th>\n",
       "      <th>Driven_Wheels</th>\n",
       "      <th>Number of Doors</th>\n",
       "      <th>Market Category</th>\n",
       "      <th>Vehicle Size</th>\n",
       "      <th>Vehicle Style</th>\n",
       "      <th>highway MPG</th>\n",
       "      <th>city mpg</th>\n",
       "      <th>Popularity</th>\n",
       "      <th>MSRP</th>\n",
       "    </tr>\n",
       "  </thead>\n",
       "  <tbody>\n",
       "    <tr>\n",
       "      <th>0</th>\n",
       "      <td>BMW</td>\n",
       "      <td>1 Series M</td>\n",
       "      <td>2011</td>\n",
       "      <td>premium unleaded (required)</td>\n",
       "      <td>335.0</td>\n",
       "      <td>6.0</td>\n",
       "      <td>MANUAL</td>\n",
       "      <td>rear wheel drive</td>\n",
       "      <td>2.0</td>\n",
       "      <td>Factory Tuner,Luxury,High-Performance</td>\n",
       "      <td>Compact</td>\n",
       "      <td>Coupe</td>\n",
       "      <td>26</td>\n",
       "      <td>19</td>\n",
       "      <td>3916</td>\n",
       "      <td>46135</td>\n",
       "    </tr>\n",
       "    <tr>\n",
       "      <th>1</th>\n",
       "      <td>BMW</td>\n",
       "      <td>1 Series</td>\n",
       "      <td>2011</td>\n",
       "      <td>premium unleaded (required)</td>\n",
       "      <td>300.0</td>\n",
       "      <td>6.0</td>\n",
       "      <td>MANUAL</td>\n",
       "      <td>rear wheel drive</td>\n",
       "      <td>2.0</td>\n",
       "      <td>Luxury,Performance</td>\n",
       "      <td>Compact</td>\n",
       "      <td>Convertible</td>\n",
       "      <td>28</td>\n",
       "      <td>19</td>\n",
       "      <td>3916</td>\n",
       "      <td>40650</td>\n",
       "    </tr>\n",
       "    <tr>\n",
       "      <th>2</th>\n",
       "      <td>BMW</td>\n",
       "      <td>1 Series</td>\n",
       "      <td>2011</td>\n",
       "      <td>premium unleaded (required)</td>\n",
       "      <td>300.0</td>\n",
       "      <td>6.0</td>\n",
       "      <td>MANUAL</td>\n",
       "      <td>rear wheel drive</td>\n",
       "      <td>2.0</td>\n",
       "      <td>Luxury,High-Performance</td>\n",
       "      <td>Compact</td>\n",
       "      <td>Coupe</td>\n",
       "      <td>28</td>\n",
       "      <td>20</td>\n",
       "      <td>3916</td>\n",
       "      <td>36350</td>\n",
       "    </tr>\n",
       "    <tr>\n",
       "      <th>3</th>\n",
       "      <td>BMW</td>\n",
       "      <td>1 Series</td>\n",
       "      <td>2011</td>\n",
       "      <td>premium unleaded (required)</td>\n",
       "      <td>230.0</td>\n",
       "      <td>6.0</td>\n",
       "      <td>MANUAL</td>\n",
       "      <td>rear wheel drive</td>\n",
       "      <td>2.0</td>\n",
       "      <td>Luxury,Performance</td>\n",
       "      <td>Compact</td>\n",
       "      <td>Coupe</td>\n",
       "      <td>28</td>\n",
       "      <td>18</td>\n",
       "      <td>3916</td>\n",
       "      <td>29450</td>\n",
       "    </tr>\n",
       "    <tr>\n",
       "      <th>4</th>\n",
       "      <td>BMW</td>\n",
       "      <td>1 Series</td>\n",
       "      <td>2011</td>\n",
       "      <td>premium unleaded (required)</td>\n",
       "      <td>230.0</td>\n",
       "      <td>6.0</td>\n",
       "      <td>MANUAL</td>\n",
       "      <td>rear wheel drive</td>\n",
       "      <td>2.0</td>\n",
       "      <td>Luxury</td>\n",
       "      <td>Compact</td>\n",
       "      <td>Convertible</td>\n",
       "      <td>28</td>\n",
       "      <td>18</td>\n",
       "      <td>3916</td>\n",
       "      <td>34500</td>\n",
       "    </tr>\n",
       "    <tr>\n",
       "      <th>...</th>\n",
       "      <td>...</td>\n",
       "      <td>...</td>\n",
       "      <td>...</td>\n",
       "      <td>...</td>\n",
       "      <td>...</td>\n",
       "      <td>...</td>\n",
       "      <td>...</td>\n",
       "      <td>...</td>\n",
       "      <td>...</td>\n",
       "      <td>...</td>\n",
       "      <td>...</td>\n",
       "      <td>...</td>\n",
       "      <td>...</td>\n",
       "      <td>...</td>\n",
       "      <td>...</td>\n",
       "      <td>...</td>\n",
       "    </tr>\n",
       "    <tr>\n",
       "      <th>11909</th>\n",
       "      <td>Acura</td>\n",
       "      <td>ZDX</td>\n",
       "      <td>2012</td>\n",
       "      <td>premium unleaded (required)</td>\n",
       "      <td>300.0</td>\n",
       "      <td>6.0</td>\n",
       "      <td>AUTOMATIC</td>\n",
       "      <td>all wheel drive</td>\n",
       "      <td>4.0</td>\n",
       "      <td>Crossover,Hatchback,Luxury</td>\n",
       "      <td>Midsize</td>\n",
       "      <td>4dr Hatchback</td>\n",
       "      <td>23</td>\n",
       "      <td>16</td>\n",
       "      <td>204</td>\n",
       "      <td>46120</td>\n",
       "    </tr>\n",
       "    <tr>\n",
       "      <th>11910</th>\n",
       "      <td>Acura</td>\n",
       "      <td>ZDX</td>\n",
       "      <td>2012</td>\n",
       "      <td>premium unleaded (required)</td>\n",
       "      <td>300.0</td>\n",
       "      <td>6.0</td>\n",
       "      <td>AUTOMATIC</td>\n",
       "      <td>all wheel drive</td>\n",
       "      <td>4.0</td>\n",
       "      <td>Crossover,Hatchback,Luxury</td>\n",
       "      <td>Midsize</td>\n",
       "      <td>4dr Hatchback</td>\n",
       "      <td>23</td>\n",
       "      <td>16</td>\n",
       "      <td>204</td>\n",
       "      <td>56670</td>\n",
       "    </tr>\n",
       "    <tr>\n",
       "      <th>11911</th>\n",
       "      <td>Acura</td>\n",
       "      <td>ZDX</td>\n",
       "      <td>2012</td>\n",
       "      <td>premium unleaded (required)</td>\n",
       "      <td>300.0</td>\n",
       "      <td>6.0</td>\n",
       "      <td>AUTOMATIC</td>\n",
       "      <td>all wheel drive</td>\n",
       "      <td>4.0</td>\n",
       "      <td>Crossover,Hatchback,Luxury</td>\n",
       "      <td>Midsize</td>\n",
       "      <td>4dr Hatchback</td>\n",
       "      <td>23</td>\n",
       "      <td>16</td>\n",
       "      <td>204</td>\n",
       "      <td>50620</td>\n",
       "    </tr>\n",
       "    <tr>\n",
       "      <th>11912</th>\n",
       "      <td>Acura</td>\n",
       "      <td>ZDX</td>\n",
       "      <td>2013</td>\n",
       "      <td>premium unleaded (recommended)</td>\n",
       "      <td>300.0</td>\n",
       "      <td>6.0</td>\n",
       "      <td>AUTOMATIC</td>\n",
       "      <td>all wheel drive</td>\n",
       "      <td>4.0</td>\n",
       "      <td>Crossover,Hatchback,Luxury</td>\n",
       "      <td>Midsize</td>\n",
       "      <td>4dr Hatchback</td>\n",
       "      <td>23</td>\n",
       "      <td>16</td>\n",
       "      <td>204</td>\n",
       "      <td>50920</td>\n",
       "    </tr>\n",
       "    <tr>\n",
       "      <th>11913</th>\n",
       "      <td>Lincoln</td>\n",
       "      <td>Zephyr</td>\n",
       "      <td>2006</td>\n",
       "      <td>regular unleaded</td>\n",
       "      <td>221.0</td>\n",
       "      <td>6.0</td>\n",
       "      <td>AUTOMATIC</td>\n",
       "      <td>front wheel drive</td>\n",
       "      <td>4.0</td>\n",
       "      <td>Luxury</td>\n",
       "      <td>Midsize</td>\n",
       "      <td>Sedan</td>\n",
       "      <td>26</td>\n",
       "      <td>17</td>\n",
       "      <td>61</td>\n",
       "      <td>28995</td>\n",
       "    </tr>\n",
       "  </tbody>\n",
       "</table>\n",
       "<p>11914 rows × 16 columns</p>\n",
       "</div>"
      ],
      "text/plain": [
       "          Make       Model  Year                Engine Fuel Type  Engine HP  \\\n",
       "0          BMW  1 Series M  2011     premium unleaded (required)      335.0   \n",
       "1          BMW    1 Series  2011     premium unleaded (required)      300.0   \n",
       "2          BMW    1 Series  2011     premium unleaded (required)      300.0   \n",
       "3          BMW    1 Series  2011     premium unleaded (required)      230.0   \n",
       "4          BMW    1 Series  2011     premium unleaded (required)      230.0   \n",
       "...        ...         ...   ...                             ...        ...   \n",
       "11909    Acura         ZDX  2012     premium unleaded (required)      300.0   \n",
       "11910    Acura         ZDX  2012     premium unleaded (required)      300.0   \n",
       "11911    Acura         ZDX  2012     premium unleaded (required)      300.0   \n",
       "11912    Acura         ZDX  2013  premium unleaded (recommended)      300.0   \n",
       "11913  Lincoln      Zephyr  2006                regular unleaded      221.0   \n",
       "\n",
       "       Engine Cylinders Transmission Type      Driven_Wheels  Number of Doors  \\\n",
       "0                   6.0            MANUAL   rear wheel drive              2.0   \n",
       "1                   6.0            MANUAL   rear wheel drive              2.0   \n",
       "2                   6.0            MANUAL   rear wheel drive              2.0   \n",
       "3                   6.0            MANUAL   rear wheel drive              2.0   \n",
       "4                   6.0            MANUAL   rear wheel drive              2.0   \n",
       "...                 ...               ...                ...              ...   \n",
       "11909               6.0         AUTOMATIC    all wheel drive              4.0   \n",
       "11910               6.0         AUTOMATIC    all wheel drive              4.0   \n",
       "11911               6.0         AUTOMATIC    all wheel drive              4.0   \n",
       "11912               6.0         AUTOMATIC    all wheel drive              4.0   \n",
       "11913               6.0         AUTOMATIC  front wheel drive              4.0   \n",
       "\n",
       "                             Market Category Vehicle Size  Vehicle Style  \\\n",
       "0      Factory Tuner,Luxury,High-Performance      Compact          Coupe   \n",
       "1                         Luxury,Performance      Compact    Convertible   \n",
       "2                    Luxury,High-Performance      Compact          Coupe   \n",
       "3                         Luxury,Performance      Compact          Coupe   \n",
       "4                                     Luxury      Compact    Convertible   \n",
       "...                                      ...          ...            ...   \n",
       "11909             Crossover,Hatchback,Luxury      Midsize  4dr Hatchback   \n",
       "11910             Crossover,Hatchback,Luxury      Midsize  4dr Hatchback   \n",
       "11911             Crossover,Hatchback,Luxury      Midsize  4dr Hatchback   \n",
       "11912             Crossover,Hatchback,Luxury      Midsize  4dr Hatchback   \n",
       "11913                                 Luxury      Midsize          Sedan   \n",
       "\n",
       "       highway MPG  city mpg  Popularity   MSRP  \n",
       "0               26        19        3916  46135  \n",
       "1               28        19        3916  40650  \n",
       "2               28        20        3916  36350  \n",
       "3               28        18        3916  29450  \n",
       "4               28        18        3916  34500  \n",
       "...            ...       ...         ...    ...  \n",
       "11909           23        16         204  46120  \n",
       "11910           23        16         204  56670  \n",
       "11911           23        16         204  50620  \n",
       "11912           23        16         204  50920  \n",
       "11913           26        17          61  28995  \n",
       "\n",
       "[11914 rows x 16 columns]"
      ]
     },
     "execution_count": 2,
     "metadata": {},
     "output_type": "execute_result"
    }
   ],
   "source": [
    "# get the dataset\n",
    "car_pricing = None\n",
    "try:\n",
    "    csv_url = \"https://raw.githubusercontent.com/alexeygrigorev/mlbookcamp-code/master/chapter-02-car-price/data.csv\"\n",
    "    car_pricing = pd.read_csv(csv_url)\n",
    "    car_pricing = car_pricing\n",
    "except IOError as e:\n",
    "    print(e)\n",
    "car_pricing"
   ]
  },
  {
   "cell_type": "code",
   "execution_count": 3,
   "metadata": {
    "collapsed": true
   },
   "outputs": [
    {
     "data": {
      "text/html": [
       "<div>\n",
       "<style scoped>\n",
       "    .dataframe tbody tr th:only-of-type {\n",
       "        vertical-align: middle;\n",
       "    }\n",
       "\n",
       "    .dataframe tbody tr th {\n",
       "        vertical-align: top;\n",
       "    }\n",
       "\n",
       "    .dataframe thead th {\n",
       "        text-align: right;\n",
       "    }\n",
       "</style>\n",
       "<table border=\"1\" class=\"dataframe\">\n",
       "  <thead>\n",
       "    <tr style=\"text-align: right;\">\n",
       "      <th></th>\n",
       "      <th>Make</th>\n",
       "      <th>Model</th>\n",
       "      <th>Year</th>\n",
       "      <th>Engine Fuel Type</th>\n",
       "      <th>Engine HP</th>\n",
       "      <th>Engine Cylinders</th>\n",
       "      <th>Transmission Type</th>\n",
       "      <th>Driven_Wheels</th>\n",
       "      <th>Number of Doors</th>\n",
       "      <th>Market Category</th>\n",
       "      <th>Vehicle Size</th>\n",
       "      <th>Vehicle Style</th>\n",
       "      <th>highway MPG</th>\n",
       "      <th>city mpg</th>\n",
       "      <th>Popularity</th>\n",
       "      <th>MSRP</th>\n",
       "    </tr>\n",
       "  </thead>\n",
       "  <tbody>\n",
       "    <tr>\n",
       "      <th>0</th>\n",
       "      <td>BMW</td>\n",
       "      <td>1 Series M</td>\n",
       "      <td>2011</td>\n",
       "      <td>premium unleaded (required)</td>\n",
       "      <td>335.0</td>\n",
       "      <td>6.0</td>\n",
       "      <td>MANUAL</td>\n",
       "      <td>rear wheel drive</td>\n",
       "      <td>2.0</td>\n",
       "      <td>Factory Tuner,Luxury,High-Performance</td>\n",
       "      <td>Compact</td>\n",
       "      <td>Coupe</td>\n",
       "      <td>26</td>\n",
       "      <td>19</td>\n",
       "      <td>3916</td>\n",
       "      <td>46135</td>\n",
       "    </tr>\n",
       "    <tr>\n",
       "      <th>1</th>\n",
       "      <td>BMW</td>\n",
       "      <td>1 Series</td>\n",
       "      <td>2011</td>\n",
       "      <td>premium unleaded (required)</td>\n",
       "      <td>300.0</td>\n",
       "      <td>6.0</td>\n",
       "      <td>MANUAL</td>\n",
       "      <td>rear wheel drive</td>\n",
       "      <td>2.0</td>\n",
       "      <td>Luxury,Performance</td>\n",
       "      <td>Compact</td>\n",
       "      <td>Convertible</td>\n",
       "      <td>28</td>\n",
       "      <td>19</td>\n",
       "      <td>3916</td>\n",
       "      <td>40650</td>\n",
       "    </tr>\n",
       "  </tbody>\n",
       "</table>\n",
       "</div>"
      ],
      "text/plain": [
       "  Make       Model  Year             Engine Fuel Type  Engine HP  \\\n",
       "0  BMW  1 Series M  2011  premium unleaded (required)      335.0   \n",
       "1  BMW    1 Series  2011  premium unleaded (required)      300.0   \n",
       "\n",
       "   Engine Cylinders Transmission Type     Driven_Wheels  Number of Doors  \\\n",
       "0               6.0            MANUAL  rear wheel drive              2.0   \n",
       "1               6.0            MANUAL  rear wheel drive              2.0   \n",
       "\n",
       "                         Market Category Vehicle Size Vehicle Style  \\\n",
       "0  Factory Tuner,Luxury,High-Performance      Compact         Coupe   \n",
       "1                     Luxury,Performance      Compact   Convertible   \n",
       "\n",
       "   highway MPG  city mpg  Popularity   MSRP  \n",
       "0           26        19        3916  46135  \n",
       "1           28        19        3916  40650  "
      ]
     },
     "execution_count": 3,
     "metadata": {},
     "output_type": "execute_result"
    }
   ],
   "source": [
    "car_pricing.head(2)"
   ]
  },
  {
   "cell_type": "code",
   "execution_count": 4,
   "metadata": {},
   "outputs": [
    {
     "data": {
      "text/plain": [
       "Index(['Make', 'Model', 'Year', 'Engine Fuel Type', 'Engine HP',\n",
       "       'Engine Cylinders', 'Transmission Type', 'Driven_Wheels',\n",
       "       'Number of Doors', 'Market Category', 'Vehicle Size', 'Vehicle Style',\n",
       "       'highway MPG', 'city mpg', 'Popularity', 'MSRP'],\n",
       "      dtype='object')"
      ]
     },
     "execution_count": 4,
     "metadata": {},
     "output_type": "execute_result"
    }
   ],
   "source": [
    "car_pricing.columns"
   ]
  },
  {
   "cell_type": "code",
   "execution_count": 5,
   "metadata": {},
   "outputs": [],
   "source": [
    "cols = ['Make', 'Model', 'Year',  'Engine HP',\n",
    "           'Engine Cylinders', 'Transmission Type',\n",
    "           'Vehicle Style', 'highway MPG', 'city mpg', \n",
    "           'Popularity', 'MSRP'\n",
    "          ]\n",
    "data = car_pricing[cols]"
   ]
  },
  {
   "cell_type": "code",
   "execution_count": 6,
   "metadata": {},
   "outputs": [
    {
     "data": {
      "text/html": [
       "<div>\n",
       "<style scoped>\n",
       "    .dataframe tbody tr th:only-of-type {\n",
       "        vertical-align: middle;\n",
       "    }\n",
       "\n",
       "    .dataframe tbody tr th {\n",
       "        vertical-align: top;\n",
       "    }\n",
       "\n",
       "    .dataframe thead th {\n",
       "        text-align: right;\n",
       "    }\n",
       "</style>\n",
       "<table border=\"1\" class=\"dataframe\">\n",
       "  <thead>\n",
       "    <tr style=\"text-align: right;\">\n",
       "      <th></th>\n",
       "      <th>Make</th>\n",
       "      <th>Model</th>\n",
       "      <th>Year</th>\n",
       "      <th>Engine HP</th>\n",
       "      <th>Engine Cylinders</th>\n",
       "      <th>Transmission Type</th>\n",
       "      <th>Vehicle Style</th>\n",
       "      <th>highway MPG</th>\n",
       "      <th>city mpg</th>\n",
       "      <th>Popularity</th>\n",
       "      <th>MSRP</th>\n",
       "    </tr>\n",
       "  </thead>\n",
       "  <tbody>\n",
       "    <tr>\n",
       "      <th>0</th>\n",
       "      <td>BMW</td>\n",
       "      <td>1 Series M</td>\n",
       "      <td>2011</td>\n",
       "      <td>335.0</td>\n",
       "      <td>6.0</td>\n",
       "      <td>MANUAL</td>\n",
       "      <td>Coupe</td>\n",
       "      <td>26</td>\n",
       "      <td>19</td>\n",
       "      <td>3916</td>\n",
       "      <td>46135</td>\n",
       "    </tr>\n",
       "    <tr>\n",
       "      <th>1</th>\n",
       "      <td>BMW</td>\n",
       "      <td>1 Series</td>\n",
       "      <td>2011</td>\n",
       "      <td>300.0</td>\n",
       "      <td>6.0</td>\n",
       "      <td>MANUAL</td>\n",
       "      <td>Convertible</td>\n",
       "      <td>28</td>\n",
       "      <td>19</td>\n",
       "      <td>3916</td>\n",
       "      <td>40650</td>\n",
       "    </tr>\n",
       "  </tbody>\n",
       "</table>\n",
       "</div>"
      ],
      "text/plain": [
       "  Make       Model  Year  Engine HP  Engine Cylinders Transmission Type  \\\n",
       "0  BMW  1 Series M  2011      335.0               6.0            MANUAL   \n",
       "1  BMW    1 Series  2011      300.0               6.0            MANUAL   \n",
       "\n",
       "  Vehicle Style  highway MPG  city mpg  Popularity   MSRP  \n",
       "0         Coupe           26        19        3916  46135  \n",
       "1   Convertible           28        19        3916  40650  "
      ]
     },
     "execution_count": 6,
     "metadata": {},
     "output_type": "execute_result"
    }
   ],
   "source": [
    "data.head(2)"
   ]
  },
  {
   "cell_type": "code",
   "execution_count": 7,
   "metadata": {},
   "outputs": [],
   "source": [
    "data.columns = data.columns.str.replace(' ', '_').str.lower()"
   ]
  },
  {
   "cell_type": "code",
   "execution_count": 8,
   "metadata": {},
   "outputs": [
    {
     "data": {
      "text/plain": [
       "make                  object\n",
       "model                 object\n",
       "year                   int64\n",
       "engine_hp            float64\n",
       "engine_cylinders     float64\n",
       "transmission_type     object\n",
       "vehicle_style         object\n",
       "highway_mpg            int64\n",
       "city_mpg               int64\n",
       "popularity             int64\n",
       "msrp                   int64\n",
       "dtype: object"
      ]
     },
     "execution_count": 8,
     "metadata": {},
     "output_type": "execute_result"
    }
   ],
   "source": [
    "data.dtypes"
   ]
  },
  {
   "cell_type": "code",
   "execution_count": 9,
   "metadata": {},
   "outputs": [
    {
     "data": {
      "text/plain": [
       "make                  0\n",
       "model                 0\n",
       "year                  0\n",
       "engine_hp            69\n",
       "engine_cylinders     30\n",
       "transmission_type     0\n",
       "vehicle_style         0\n",
       "highway_mpg           0\n",
       "city_mpg              0\n",
       "popularity            0\n",
       "msrp                  0\n",
       "dtype: int64"
      ]
     },
     "execution_count": 9,
     "metadata": {},
     "output_type": "execute_result"
    }
   ],
   "source": [
    "# check missing values\n",
    "data.isnull().sum()"
   ]
  },
  {
   "cell_type": "code",
   "execution_count": 10,
   "metadata": {},
   "outputs": [],
   "source": [
    "data = data.fillna(0)"
   ]
  },
  {
   "cell_type": "code",
   "execution_count": 11,
   "metadata": {
    "collapsed": true
   },
   "outputs": [
    {
     "data": {
      "text/html": [
       "<div>\n",
       "<style scoped>\n",
       "    .dataframe tbody tr th:only-of-type {\n",
       "        vertical-align: middle;\n",
       "    }\n",
       "\n",
       "    .dataframe tbody tr th {\n",
       "        vertical-align: top;\n",
       "    }\n",
       "\n",
       "    .dataframe thead th {\n",
       "        text-align: right;\n",
       "    }\n",
       "</style>\n",
       "<table border=\"1\" class=\"dataframe\">\n",
       "  <thead>\n",
       "    <tr style=\"text-align: right;\">\n",
       "      <th></th>\n",
       "      <th>make</th>\n",
       "      <th>model</th>\n",
       "      <th>year</th>\n",
       "      <th>engine_hp</th>\n",
       "      <th>engine_cylinders</th>\n",
       "      <th>transmission_type</th>\n",
       "      <th>vehicle_style</th>\n",
       "      <th>highway_mpg</th>\n",
       "      <th>city_mpg</th>\n",
       "      <th>popularity</th>\n",
       "      <th>msrp</th>\n",
       "    </tr>\n",
       "  </thead>\n",
       "  <tbody>\n",
       "    <tr>\n",
       "      <th>0</th>\n",
       "      <td>BMW</td>\n",
       "      <td>1 Series M</td>\n",
       "      <td>2011</td>\n",
       "      <td>335.0</td>\n",
       "      <td>6.0</td>\n",
       "      <td>MANUAL</td>\n",
       "      <td>Coupe</td>\n",
       "      <td>26</td>\n",
       "      <td>19</td>\n",
       "      <td>3916</td>\n",
       "      <td>46135</td>\n",
       "    </tr>\n",
       "    <tr>\n",
       "      <th>1</th>\n",
       "      <td>BMW</td>\n",
       "      <td>1 Series</td>\n",
       "      <td>2011</td>\n",
       "      <td>300.0</td>\n",
       "      <td>6.0</td>\n",
       "      <td>MANUAL</td>\n",
       "      <td>Convertible</td>\n",
       "      <td>28</td>\n",
       "      <td>19</td>\n",
       "      <td>3916</td>\n",
       "      <td>40650</td>\n",
       "    </tr>\n",
       "    <tr>\n",
       "      <th>2</th>\n",
       "      <td>BMW</td>\n",
       "      <td>1 Series</td>\n",
       "      <td>2011</td>\n",
       "      <td>300.0</td>\n",
       "      <td>6.0</td>\n",
       "      <td>MANUAL</td>\n",
       "      <td>Coupe</td>\n",
       "      <td>28</td>\n",
       "      <td>20</td>\n",
       "      <td>3916</td>\n",
       "      <td>36350</td>\n",
       "    </tr>\n",
       "    <tr>\n",
       "      <th>3</th>\n",
       "      <td>BMW</td>\n",
       "      <td>1 Series</td>\n",
       "      <td>2011</td>\n",
       "      <td>230.0</td>\n",
       "      <td>6.0</td>\n",
       "      <td>MANUAL</td>\n",
       "      <td>Coupe</td>\n",
       "      <td>28</td>\n",
       "      <td>18</td>\n",
       "      <td>3916</td>\n",
       "      <td>29450</td>\n",
       "    </tr>\n",
       "    <tr>\n",
       "      <th>4</th>\n",
       "      <td>BMW</td>\n",
       "      <td>1 Series</td>\n",
       "      <td>2011</td>\n",
       "      <td>230.0</td>\n",
       "      <td>6.0</td>\n",
       "      <td>MANUAL</td>\n",
       "      <td>Convertible</td>\n",
       "      <td>28</td>\n",
       "      <td>18</td>\n",
       "      <td>3916</td>\n",
       "      <td>34500</td>\n",
       "    </tr>\n",
       "    <tr>\n",
       "      <th>...</th>\n",
       "      <td>...</td>\n",
       "      <td>...</td>\n",
       "      <td>...</td>\n",
       "      <td>...</td>\n",
       "      <td>...</td>\n",
       "      <td>...</td>\n",
       "      <td>...</td>\n",
       "      <td>...</td>\n",
       "      <td>...</td>\n",
       "      <td>...</td>\n",
       "      <td>...</td>\n",
       "    </tr>\n",
       "    <tr>\n",
       "      <th>11909</th>\n",
       "      <td>Acura</td>\n",
       "      <td>ZDX</td>\n",
       "      <td>2012</td>\n",
       "      <td>300.0</td>\n",
       "      <td>6.0</td>\n",
       "      <td>AUTOMATIC</td>\n",
       "      <td>4dr Hatchback</td>\n",
       "      <td>23</td>\n",
       "      <td>16</td>\n",
       "      <td>204</td>\n",
       "      <td>46120</td>\n",
       "    </tr>\n",
       "    <tr>\n",
       "      <th>11910</th>\n",
       "      <td>Acura</td>\n",
       "      <td>ZDX</td>\n",
       "      <td>2012</td>\n",
       "      <td>300.0</td>\n",
       "      <td>6.0</td>\n",
       "      <td>AUTOMATIC</td>\n",
       "      <td>4dr Hatchback</td>\n",
       "      <td>23</td>\n",
       "      <td>16</td>\n",
       "      <td>204</td>\n",
       "      <td>56670</td>\n",
       "    </tr>\n",
       "    <tr>\n",
       "      <th>11911</th>\n",
       "      <td>Acura</td>\n",
       "      <td>ZDX</td>\n",
       "      <td>2012</td>\n",
       "      <td>300.0</td>\n",
       "      <td>6.0</td>\n",
       "      <td>AUTOMATIC</td>\n",
       "      <td>4dr Hatchback</td>\n",
       "      <td>23</td>\n",
       "      <td>16</td>\n",
       "      <td>204</td>\n",
       "      <td>50620</td>\n",
       "    </tr>\n",
       "    <tr>\n",
       "      <th>11912</th>\n",
       "      <td>Acura</td>\n",
       "      <td>ZDX</td>\n",
       "      <td>2013</td>\n",
       "      <td>300.0</td>\n",
       "      <td>6.0</td>\n",
       "      <td>AUTOMATIC</td>\n",
       "      <td>4dr Hatchback</td>\n",
       "      <td>23</td>\n",
       "      <td>16</td>\n",
       "      <td>204</td>\n",
       "      <td>50920</td>\n",
       "    </tr>\n",
       "    <tr>\n",
       "      <th>11913</th>\n",
       "      <td>Lincoln</td>\n",
       "      <td>Zephyr</td>\n",
       "      <td>2006</td>\n",
       "      <td>221.0</td>\n",
       "      <td>6.0</td>\n",
       "      <td>AUTOMATIC</td>\n",
       "      <td>Sedan</td>\n",
       "      <td>26</td>\n",
       "      <td>17</td>\n",
       "      <td>61</td>\n",
       "      <td>28995</td>\n",
       "    </tr>\n",
       "  </tbody>\n",
       "</table>\n",
       "<p>11914 rows × 11 columns</p>\n",
       "</div>"
      ],
      "text/plain": [
       "          make       model  year  engine_hp  engine_cylinders  \\\n",
       "0          BMW  1 Series M  2011      335.0               6.0   \n",
       "1          BMW    1 Series  2011      300.0               6.0   \n",
       "2          BMW    1 Series  2011      300.0               6.0   \n",
       "3          BMW    1 Series  2011      230.0               6.0   \n",
       "4          BMW    1 Series  2011      230.0               6.0   \n",
       "...        ...         ...   ...        ...               ...   \n",
       "11909    Acura         ZDX  2012      300.0               6.0   \n",
       "11910    Acura         ZDX  2012      300.0               6.0   \n",
       "11911    Acura         ZDX  2012      300.0               6.0   \n",
       "11912    Acura         ZDX  2013      300.0               6.0   \n",
       "11913  Lincoln      Zephyr  2006      221.0               6.0   \n",
       "\n",
       "      transmission_type  vehicle_style  highway_mpg  city_mpg  popularity  \\\n",
       "0                MANUAL          Coupe           26        19        3916   \n",
       "1                MANUAL    Convertible           28        19        3916   \n",
       "2                MANUAL          Coupe           28        20        3916   \n",
       "3                MANUAL          Coupe           28        18        3916   \n",
       "4                MANUAL    Convertible           28        18        3916   \n",
       "...                 ...            ...          ...       ...         ...   \n",
       "11909         AUTOMATIC  4dr Hatchback           23        16         204   \n",
       "11910         AUTOMATIC  4dr Hatchback           23        16         204   \n",
       "11911         AUTOMATIC  4dr Hatchback           23        16         204   \n",
       "11912         AUTOMATIC  4dr Hatchback           23        16         204   \n",
       "11913         AUTOMATIC          Sedan           26        17          61   \n",
       "\n",
       "        msrp  \n",
       "0      46135  \n",
       "1      40650  \n",
       "2      36350  \n",
       "3      29450  \n",
       "4      34500  \n",
       "...      ...  \n",
       "11909  46120  \n",
       "11910  56670  \n",
       "11911  50620  \n",
       "11912  50920  \n",
       "11913  28995  \n",
       "\n",
       "[11914 rows x 11 columns]"
      ]
     },
     "execution_count": 11,
     "metadata": {},
     "output_type": "execute_result"
    }
   ],
   "source": [
    "data"
   ]
  },
  {
   "cell_type": "code",
   "execution_count": 12,
   "metadata": {},
   "outputs": [
    {
     "data": {
      "text/plain": [
       "Index(['make', 'model', 'year', 'engine_hp', 'engine_cylinders',\n",
       "       'transmission_type', 'vehicle_style', 'highway_mpg', 'city_mpg',\n",
       "       'popularity', 'price'],\n",
       "      dtype='object')"
      ]
     },
     "execution_count": 12,
     "metadata": {},
     "output_type": "execute_result"
    }
   ],
   "source": [
    "# rename the msrp column\n",
    "data.rename(columns={\"msrp\": \"price\"}, inplace=True)\n",
    "data.columns"
   ]
  },
  {
   "cell_type": "code",
   "execution_count": 13,
   "metadata": {},
   "outputs": [
    {
     "data": {
      "text/plain": [
       "['make', 'model', 'transmission_type', 'vehicle_style']"
      ]
     },
     "execution_count": 13,
     "metadata": {},
     "output_type": "execute_result"
    }
   ],
   "source": [
    "categorical_columns = list(data.dtypes[data.dtypes == 'object'].index)\n",
    "categorical_columns"
   ]
  },
  {
   "cell_type": "code",
   "execution_count": 14,
   "metadata": {},
   "outputs": [],
   "source": [
    "numerical_columns = ['year',\n",
    " 'engine_hp',\n",
    " 'engine_cylinders',\n",
    " 'highway_mpg',\n",
    " 'city_mpg',\n",
    " 'popularity'\n",
    " ]"
   ]
  },
  {
   "cell_type": "code",
   "execution_count": 15,
   "metadata": {},
   "outputs": [
    {
     "data": {
      "text/html": [
       "<div>\n",
       "<style scoped>\n",
       "    .dataframe tbody tr th:only-of-type {\n",
       "        vertical-align: middle;\n",
       "    }\n",
       "\n",
       "    .dataframe tbody tr th {\n",
       "        vertical-align: top;\n",
       "    }\n",
       "\n",
       "    .dataframe thead th {\n",
       "        text-align: right;\n",
       "    }\n",
       "</style>\n",
       "<table border=\"1\" class=\"dataframe\">\n",
       "  <thead>\n",
       "    <tr style=\"text-align: right;\">\n",
       "      <th></th>\n",
       "      <th>make</th>\n",
       "      <th>model</th>\n",
       "      <th>transmission_type</th>\n",
       "      <th>vehicle_style</th>\n",
       "    </tr>\n",
       "  </thead>\n",
       "  <tbody>\n",
       "    <tr>\n",
       "      <th>0</th>\n",
       "      <td>BMW</td>\n",
       "      <td>1 Series M</td>\n",
       "      <td>MANUAL</td>\n",
       "      <td>Coupe</td>\n",
       "    </tr>\n",
       "    <tr>\n",
       "      <th>1</th>\n",
       "      <td>BMW</td>\n",
       "      <td>1 Series</td>\n",
       "      <td>MANUAL</td>\n",
       "      <td>Convertible</td>\n",
       "    </tr>\n",
       "    <tr>\n",
       "      <th>2</th>\n",
       "      <td>BMW</td>\n",
       "      <td>1 Series</td>\n",
       "      <td>MANUAL</td>\n",
       "      <td>Coupe</td>\n",
       "    </tr>\n",
       "    <tr>\n",
       "      <th>3</th>\n",
       "      <td>BMW</td>\n",
       "      <td>1 Series</td>\n",
       "      <td>MANUAL</td>\n",
       "      <td>Coupe</td>\n",
       "    </tr>\n",
       "    <tr>\n",
       "      <th>4</th>\n",
       "      <td>BMW</td>\n",
       "      <td>1 Series</td>\n",
       "      <td>MANUAL</td>\n",
       "      <td>Convertible</td>\n",
       "    </tr>\n",
       "    <tr>\n",
       "      <th>...</th>\n",
       "      <td>...</td>\n",
       "      <td>...</td>\n",
       "      <td>...</td>\n",
       "      <td>...</td>\n",
       "    </tr>\n",
       "    <tr>\n",
       "      <th>11909</th>\n",
       "      <td>Acura</td>\n",
       "      <td>ZDX</td>\n",
       "      <td>AUTOMATIC</td>\n",
       "      <td>4dr Hatchback</td>\n",
       "    </tr>\n",
       "    <tr>\n",
       "      <th>11910</th>\n",
       "      <td>Acura</td>\n",
       "      <td>ZDX</td>\n",
       "      <td>AUTOMATIC</td>\n",
       "      <td>4dr Hatchback</td>\n",
       "    </tr>\n",
       "    <tr>\n",
       "      <th>11911</th>\n",
       "      <td>Acura</td>\n",
       "      <td>ZDX</td>\n",
       "      <td>AUTOMATIC</td>\n",
       "      <td>4dr Hatchback</td>\n",
       "    </tr>\n",
       "    <tr>\n",
       "      <th>11912</th>\n",
       "      <td>Acura</td>\n",
       "      <td>ZDX</td>\n",
       "      <td>AUTOMATIC</td>\n",
       "      <td>4dr Hatchback</td>\n",
       "    </tr>\n",
       "    <tr>\n",
       "      <th>11913</th>\n",
       "      <td>Lincoln</td>\n",
       "      <td>Zephyr</td>\n",
       "      <td>AUTOMATIC</td>\n",
       "      <td>Sedan</td>\n",
       "    </tr>\n",
       "  </tbody>\n",
       "</table>\n",
       "<p>11914 rows × 4 columns</p>\n",
       "</div>"
      ],
      "text/plain": [
       "          make       model transmission_type  vehicle_style\n",
       "0          BMW  1 Series M            MANUAL          Coupe\n",
       "1          BMW    1 Series            MANUAL    Convertible\n",
       "2          BMW    1 Series            MANUAL          Coupe\n",
       "3          BMW    1 Series            MANUAL          Coupe\n",
       "4          BMW    1 Series            MANUAL    Convertible\n",
       "...        ...         ...               ...            ...\n",
       "11909    Acura         ZDX         AUTOMATIC  4dr Hatchback\n",
       "11910    Acura         ZDX         AUTOMATIC  4dr Hatchback\n",
       "11911    Acura         ZDX         AUTOMATIC  4dr Hatchback\n",
       "11912    Acura         ZDX         AUTOMATIC  4dr Hatchback\n",
       "11913  Lincoln      Zephyr         AUTOMATIC          Sedan\n",
       "\n",
       "[11914 rows x 4 columns]"
      ]
     },
     "execution_count": 15,
     "metadata": {},
     "output_type": "execute_result"
    }
   ],
   "source": [
    "data[categorical_columns]"
   ]
  },
  {
   "cell_type": "code",
   "execution_count": 16,
   "metadata": {
    "collapsed": true
   },
   "outputs": [
    {
     "data": {
      "text/html": [
       "<div>\n",
       "<style scoped>\n",
       "    .dataframe tbody tr th:only-of-type {\n",
       "        vertical-align: middle;\n",
       "    }\n",
       "\n",
       "    .dataframe tbody tr th {\n",
       "        vertical-align: top;\n",
       "    }\n",
       "\n",
       "    .dataframe thead th {\n",
       "        text-align: right;\n",
       "    }\n",
       "</style>\n",
       "<table border=\"1\" class=\"dataframe\">\n",
       "  <thead>\n",
       "    <tr style=\"text-align: right;\">\n",
       "      <th></th>\n",
       "      <th>year</th>\n",
       "      <th>engine_hp</th>\n",
       "      <th>engine_cylinders</th>\n",
       "      <th>highway_mpg</th>\n",
       "      <th>city_mpg</th>\n",
       "      <th>popularity</th>\n",
       "    </tr>\n",
       "  </thead>\n",
       "  <tbody>\n",
       "    <tr>\n",
       "      <th>0</th>\n",
       "      <td>2011</td>\n",
       "      <td>335.0</td>\n",
       "      <td>6.0</td>\n",
       "      <td>26</td>\n",
       "      <td>19</td>\n",
       "      <td>3916</td>\n",
       "    </tr>\n",
       "    <tr>\n",
       "      <th>1</th>\n",
       "      <td>2011</td>\n",
       "      <td>300.0</td>\n",
       "      <td>6.0</td>\n",
       "      <td>28</td>\n",
       "      <td>19</td>\n",
       "      <td>3916</td>\n",
       "    </tr>\n",
       "    <tr>\n",
       "      <th>2</th>\n",
       "      <td>2011</td>\n",
       "      <td>300.0</td>\n",
       "      <td>6.0</td>\n",
       "      <td>28</td>\n",
       "      <td>20</td>\n",
       "      <td>3916</td>\n",
       "    </tr>\n",
       "    <tr>\n",
       "      <th>3</th>\n",
       "      <td>2011</td>\n",
       "      <td>230.0</td>\n",
       "      <td>6.0</td>\n",
       "      <td>28</td>\n",
       "      <td>18</td>\n",
       "      <td>3916</td>\n",
       "    </tr>\n",
       "    <tr>\n",
       "      <th>4</th>\n",
       "      <td>2011</td>\n",
       "      <td>230.0</td>\n",
       "      <td>6.0</td>\n",
       "      <td>28</td>\n",
       "      <td>18</td>\n",
       "      <td>3916</td>\n",
       "    </tr>\n",
       "    <tr>\n",
       "      <th>...</th>\n",
       "      <td>...</td>\n",
       "      <td>...</td>\n",
       "      <td>...</td>\n",
       "      <td>...</td>\n",
       "      <td>...</td>\n",
       "      <td>...</td>\n",
       "    </tr>\n",
       "    <tr>\n",
       "      <th>11909</th>\n",
       "      <td>2012</td>\n",
       "      <td>300.0</td>\n",
       "      <td>6.0</td>\n",
       "      <td>23</td>\n",
       "      <td>16</td>\n",
       "      <td>204</td>\n",
       "    </tr>\n",
       "    <tr>\n",
       "      <th>11910</th>\n",
       "      <td>2012</td>\n",
       "      <td>300.0</td>\n",
       "      <td>6.0</td>\n",
       "      <td>23</td>\n",
       "      <td>16</td>\n",
       "      <td>204</td>\n",
       "    </tr>\n",
       "    <tr>\n",
       "      <th>11911</th>\n",
       "      <td>2012</td>\n",
       "      <td>300.0</td>\n",
       "      <td>6.0</td>\n",
       "      <td>23</td>\n",
       "      <td>16</td>\n",
       "      <td>204</td>\n",
       "    </tr>\n",
       "    <tr>\n",
       "      <th>11912</th>\n",
       "      <td>2013</td>\n",
       "      <td>300.0</td>\n",
       "      <td>6.0</td>\n",
       "      <td>23</td>\n",
       "      <td>16</td>\n",
       "      <td>204</td>\n",
       "    </tr>\n",
       "    <tr>\n",
       "      <th>11913</th>\n",
       "      <td>2006</td>\n",
       "      <td>221.0</td>\n",
       "      <td>6.0</td>\n",
       "      <td>26</td>\n",
       "      <td>17</td>\n",
       "      <td>61</td>\n",
       "    </tr>\n",
       "  </tbody>\n",
       "</table>\n",
       "<p>11914 rows × 6 columns</p>\n",
       "</div>"
      ],
      "text/plain": [
       "       year  engine_hp  engine_cylinders  highway_mpg  city_mpg  popularity\n",
       "0      2011      335.0               6.0           26        19        3916\n",
       "1      2011      300.0               6.0           28        19        3916\n",
       "2      2011      300.0               6.0           28        20        3916\n",
       "3      2011      230.0               6.0           28        18        3916\n",
       "4      2011      230.0               6.0           28        18        3916\n",
       "...     ...        ...               ...          ...       ...         ...\n",
       "11909  2012      300.0               6.0           23        16         204\n",
       "11910  2012      300.0               6.0           23        16         204\n",
       "11911  2012      300.0               6.0           23        16         204\n",
       "11912  2013      300.0               6.0           23        16         204\n",
       "11913  2006      221.0               6.0           26        17          61\n",
       "\n",
       "[11914 rows x 6 columns]"
      ]
     },
     "execution_count": 16,
     "metadata": {},
     "output_type": "execute_result"
    }
   ],
   "source": [
    "data[numerical_columns]"
   ]
  },
  {
   "cell_type": "markdown",
   "metadata": {},
   "source": [
    "## Question 1"
   ]
  },
  {
   "cell_type": "code",
   "execution_count": 17,
   "metadata": {},
   "outputs": [
    {
     "data": {
      "text/plain": [
       "AUTOMATIC           8266\n",
       "MANUAL              2935\n",
       "AUTOMATED_MANUAL     626\n",
       "DIRECT_DRIVE          68\n",
       "UNKNOWN               19\n",
       "Name: transmission_type, dtype: int64"
      ]
     },
     "execution_count": 17,
     "metadata": {},
     "output_type": "execute_result"
    }
   ],
   "source": [
    "data['transmission_type'].value_counts()"
   ]
  },
  {
   "cell_type": "markdown",
   "metadata": {},
   "source": [
    "##### Ans: \"AUTOMATIC\" transmission has the highest count"
   ]
  },
  {
   "cell_type": "code",
   "execution_count": null,
   "metadata": {},
   "outputs": [],
   "source": []
  },
  {
   "cell_type": "markdown",
   "metadata": {},
   "source": [
    "## Question 2"
   ]
  },
  {
   "cell_type": "code",
   "execution_count": 18,
   "metadata": {},
   "outputs": [
    {
     "data": {
      "image/png": "[encoded data removed]",
      "text/plain": [
       "<Figure size 648x288 with 2 Axes>"
      ]
     },
     "metadata": {
      "needs_background": "light"
     },
     "output_type": "display_data"
    },
    {
     "name": "stdout",
     "output_type": "stream",
     "text": [
      "\n",
      "\n",
      "                      year  engine_hp  engine_cylinders  highway_mpg  \\\n",
      "year              1.000000   0.338714         -0.040708     0.258240   \n",
      "engine_hp         0.338714   1.000000          0.774851    -0.415707   \n",
      "engine_cylinders -0.040708   0.774851          1.000000    -0.614541   \n",
      "highway_mpg       0.258240  -0.415707         -0.614541     1.000000   \n",
      "city_mpg          0.198171  -0.424918         -0.587306     0.886829   \n",
      "popularity        0.073049   0.031409          0.045226    -0.020991   \n",
      "price             0.227590   0.650095          0.526274    -0.160043   \n",
      "\n",
      "                  city_mpg  popularity     price  \n",
      "year              0.198171    0.073049  0.227590  \n",
      "engine_hp        -0.424918    0.031409  0.650095  \n",
      "engine_cylinders -0.587306    0.045226  0.526274  \n",
      "highway_mpg       0.886829   -0.020991 -0.160043  \n",
      "city_mpg          1.000000   -0.003217 -0.157676  \n",
      "popularity       -0.003217    1.000000 -0.048476  \n",
      "price            -0.157676   -0.048476  1.000000  \n"
     ]
    }
   ],
   "source": [
    "plt.figure(figsize=(9,4))\n",
    "corrMatrix = data.corr()\n",
    "sns.heatmap(corrMatrix, annot=True)\n",
    "plt.show()\n",
    "print('\\n')\n",
    "\n",
    "print(corrMatrix)"
   ]
  },
  {
   "cell_type": "code",
   "execution_count": 19,
   "metadata": {},
   "outputs": [
    {
     "data": {
      "text/plain": [
       "engine_hp    0.338714\n",
       "dtype: float64"
      ]
     },
     "execution_count": 19,
     "metadata": {},
     "output_type": "execute_result"
    }
   ],
   "source": [
    "# engine_hp and year correlation\n",
    "data[['engine_hp']].corrwith(data.year).abs()"
   ]
  },
  {
   "cell_type": "code",
   "execution_count": 20,
   "metadata": {},
   "outputs": [
    {
     "data": {
      "text/plain": [
       "engine_hp    0.774851\n",
       "dtype: float64"
      ]
     },
     "execution_count": 20,
     "metadata": {},
     "output_type": "execute_result"
    }
   ],
   "source": [
    "# engine_hp and engine_cylinders correlation\n",
    "data[['engine_hp']].corrwith(data.engine_cylinders).abs()"
   ]
  },
  {
   "cell_type": "code",
   "execution_count": 21,
   "metadata": {},
   "outputs": [
    {
     "data": {
      "text/plain": [
       "highway_mpg    0.614541\n",
       "dtype: float64"
      ]
     },
     "execution_count": 21,
     "metadata": {},
     "output_type": "execute_result"
    }
   ],
   "source": [
    "# highway_mpg and engine_cylinders\n",
    "data[['highway_mpg']].corrwith(data.engine_cylinders).abs()"
   ]
  },
  {
   "cell_type": "code",
   "execution_count": 22,
   "metadata": {},
   "outputs": [
    {
     "data": {
      "text/plain": [
       "highway_mpg    0.886829\n",
       "dtype: float64"
      ]
     },
     "execution_count": 22,
     "metadata": {},
     "output_type": "execute_result"
    }
   ],
   "source": [
    "# highway_mpg and city_mpg\n",
    "data[['highway_mpg']].corrwith(data.city_mpg).abs()"
   ]
  },
  {
   "cell_type": "markdown",
   "metadata": {},
   "source": [
    "##### Ans: highway_mpg and city_mpg has the biggest correlation"
   ]
  },
  {
   "cell_type": "code",
   "execution_count": null,
   "metadata": {},
   "outputs": [],
   "source": []
  },
  {
   "cell_type": "code",
   "execution_count": 23,
   "metadata": {},
   "outputs": [],
   "source": [
    "# Make price binary\n",
    "price_avg = data['price'].mean()\n",
    "data['above_average'] = data['price'] > price_avg\n",
    "data['above_average'] = data['above_average'].astype(int)"
   ]
  },
  {
   "cell_type": "code",
   "execution_count": 24,
   "metadata": {},
   "outputs": [],
   "source": [
    "#import library\n",
    "#split the data\n",
    "from sklearn.model_selection import train_test_split\n",
    "\n",
    "data_full_train, data_test = train_test_split(data, test_size=0.2, random_state=1)\n",
    "data_train, data_val = train_test_split(data_full_train, test_size=0.25, random_state=1)"
   ]
  },
  {
   "cell_type": "code",
   "execution_count": 25,
   "metadata": {},
   "outputs": [
    {
     "data": {
      "text/plain": [
       "(7148, 2383, 2383)"
      ]
     },
     "execution_count": 25,
     "metadata": {},
     "output_type": "execute_result"
    }
   ],
   "source": [
    "len(data_train), len(data_val), len(data_test)"
   ]
  },
  {
   "cell_type": "code",
   "execution_count": 26,
   "metadata": {},
   "outputs": [],
   "source": [
    "y_train = data_train.above_average.values\n",
    "y_val = data_val.above_average.values\n",
    "y_test = data_test.above_average.values\n",
    "\n",
    "del data_train['above_average']\n",
    "del data_val['above_average']\n",
    "del data_test['above_average']"
   ]
  },
  {
   "cell_type": "code",
   "execution_count": null,
   "metadata": {},
   "outputs": [],
   "source": []
  },
  {
   "cell_type": "markdown",
   "metadata": {},
   "source": [
    "## Question 3"
   ]
  },
  {
   "cell_type": "code",
   "execution_count": 27,
   "metadata": {},
   "outputs": [],
   "source": [
    "# calculate mutual score\n",
    "\n",
    "from sklearn.metrics import mutual_info_score"
   ]
  },
  {
   "cell_type": "code",
   "execution_count": 28,
   "metadata": {},
   "outputs": [
    {
     "data": {
      "text/plain": [
       "['make', 'model', 'transmission_type', 'vehicle_style']"
      ]
     },
     "execution_count": 28,
     "metadata": {},
     "output_type": "execute_result"
    }
   ],
   "source": [
    "categorical_columns"
   ]
  },
  {
   "cell_type": "code",
   "execution_count": 29,
   "metadata": {},
   "outputs": [
    {
     "name": "stdout",
     "output_type": "stream",
     "text": [
      " \"make\" variables has a mutual_score of 0.23888341453006923\n",
      "\n",
      " \"model\" variables has a mutual_score of 0.46139654661226426\n",
      "\n",
      " \"transmission_type\" variables has a mutual_score of 0.01941099682472424\n",
      "\n",
      " \"vehicle_style\" variables has a mutual_score of 0.0826587378613731\n",
      "\n"
     ]
    }
   ],
   "source": [
    "for col in categorical_columns:\n",
    "    mut_score = mutual_info_score(data_full_train.above_average, data_full_train[col])\n",
    "    print(f' \"{col}\" variables has a mutual_score of {mut_score}')\n",
    "    print()"
   ]
  },
  {
   "cell_type": "markdown",
   "metadata": {},
   "source": [
    "##### Ans: 'transmission_type' has the lowest mutual information score"
   ]
  },
  {
   "cell_type": "code",
   "execution_count": null,
   "metadata": {},
   "outputs": [],
   "source": []
  },
  {
   "cell_type": "markdown",
   "metadata": {},
   "source": [
    "## Question 4 (One-Hot Encoding & Accuracy Validation)"
   ]
  },
  {
   "cell_type": "code",
   "execution_count": 30,
   "metadata": {},
   "outputs": [],
   "source": [
    "from sklearn.feature_extraction import DictVectorizer"
   ]
  },
  {
   "cell_type": "code",
   "execution_count": null,
   "metadata": {},
   "outputs": [],
   "source": []
  },
  {
   "cell_type": "code",
   "execution_count": 31,
   "metadata": {},
   "outputs": [],
   "source": [
    "dv = DictVectorizer(sparse=False)\n",
    "\n",
    "train_dict = data_train[categorical_columns + numerical_columns].to_dict(orient='records')\n",
    "X_train = dv.fit_transform(train_dict)\n",
    "\n",
    "val_dict = data_val[categorical_columns + numerical_columns].to_dict(orient='records')\n",
    "X_val = dv.transform(val_dict)"
   ]
  },
  {
   "cell_type": "code",
   "execution_count": 32,
   "metadata": {},
   "outputs": [],
   "source": [
    "# train logistic regression with Scikit-Learn\n",
    "from sklearn.linear_model import LogisticRegression"
   ]
  },
  {
   "cell_type": "code",
   "execution_count": 33,
   "metadata": {},
   "outputs": [
    {
     "data": {
      "text/plain": [
       "LogisticRegression(C=10, max_iter=1000, random_state=42, solver='liblinear')"
      ]
     },
     "execution_count": 33,
     "metadata": {},
     "output_type": "execute_result"
    }
   ],
   "source": [
    "model = LogisticRegression(solver='liblinear', C=10, max_iter=1000, random_state=42)\n",
    "model.fit(X_train, y_train)"
   ]
  },
  {
   "cell_type": "code",
   "execution_count": 34,
   "metadata": {},
   "outputs": [
    {
     "data": {
      "text/plain": [
       "-0.060365149566516216"
      ]
     },
     "execution_count": 34,
     "metadata": {},
     "output_type": "execute_result"
    }
   ],
   "source": [
    "model.intercept_[0]"
   ]
  },
  {
   "cell_type": "code",
   "execution_count": 35,
   "metadata": {
    "collapsed": true
   },
   "outputs": [
    {
     "data": {
      "text/plain": [
       "array([ 3.000e-02, -1.380e-01,  3.600e-02,  6.700e-02,  6.630e-01,\n",
       "        2.800e-01,  1.840e-01,  2.563e+00,  2.088e+00,  4.700e-02,\n",
       "        0.000e+00, -6.760e-01,  2.323e+00, -1.548e+00, -8.490e-01,\n",
       "       -2.720e+00, -1.280e-01,  2.750e-01, -9.570e-01, -8.130e-01,\n",
       "        6.100e-02,  3.100e-02, -1.330e+00, -1.807e+00,  5.300e-02,\n",
       "       -1.301e+00,  2.000e-03,  1.876e+00,  1.282e+00,  1.414e+00,\n",
       "        1.896e+00,  3.930e-01,  1.000e-03, -9.630e-01,  0.000e+00,\n",
       "        9.840e-01, -7.550e-01, -1.022e+00, -5.460e-01, -2.400e-02,\n",
       "       -1.508e+00,  1.080e+00,  2.890e-01,  6.730e-01, -9.700e-02,\n",
       "        4.000e-02, -1.307e+00, -8.760e-01,  1.127e+00, -6.970e-01,\n",
       "       -8.260e-01,  1.064e+00, -2.400e-02,  3.600e-02, -1.800e-02,\n",
       "       -6.000e-03, -3.000e-03, -1.000e-03, -2.940e-01, -2.920e-01,\n",
       "       -2.000e-03, -1.000e-03, -2.000e-03, -7.800e-02, -6.900e-02,\n",
       "        9.800e-02, -7.900e-02, -1.000e-01, -7.200e-02, -7.200e-02,\n",
       "       -6.000e-02, -0.000e+00, -2.000e-03, -4.720e-01,  2.110e-01,\n",
       "        1.550e-01,  6.780e-01,  3.790e-01, -6.900e-02, -3.000e-03,\n",
       "        4.000e-02,  0.000e+00,  2.800e-01, -1.430e-01, -8.000e-03,\n",
       "        4.860e-01,  2.380e-01, -1.800e-02, -3.140e-01, -2.100e-02,\n",
       "       -5.900e-02, -2.500e-02,  2.000e-03, -9.000e-03,  1.000e-03,\n",
       "        6.000e-03,  0.000e+00, -6.800e-02,  1.400e-01,  7.300e-02,\n",
       "       -5.120e-01, -3.000e-03,  1.000e-03,  0.000e+00, -2.000e-03,\n",
       "        0.000e+00,  5.400e-02,  1.160e-01, -1.400e-02, -4.000e-03,\n",
       "       -4.000e-03, -1.960e-01, -4.000e-03, -1.910e-01, -7.000e-03,\n",
       "       -1.300e-02,  2.570e-01,  2.640e-01, -6.000e-02,  2.950e-01,\n",
       "       -5.000e-03, -8.000e-03, -4.800e-02, -1.600e-02,  2.690e-01,\n",
       "       -1.690e-01, -3.000e-03, -1.200e-02, -2.200e-02, -1.700e-02,\n",
       "       -9.600e-02, -1.140e-01, -8.000e-02,  1.800e-01,  5.180e-01,\n",
       "        5.810e-01,  8.800e-02,  2.300e-02,  0.000e+00,  0.000e+00,\n",
       "        1.000e-03, -4.460e-01,  1.330e-01,  2.000e-03,  2.900e-01,\n",
       "        1.930e-01, -7.000e-03, -1.000e-03, -5.040e-01, -7.600e-02,\n",
       "       -9.500e-02, -1.300e-02, -3.000e-03,  1.400e-02,  8.000e-03,\n",
       "        1.000e-03, -1.700e-02, -1.000e-03, -2.200e-02, -6.400e-02,\n",
       "        6.000e-03, -2.660e-01, -9.000e-03, -1.500e-02,  6.670e-01,\n",
       "        2.000e-02, -1.450e-01, -0.000e+00, -2.000e-03, -3.000e-03,\n",
       "       -3.800e-02,  2.310e-01, -1.770e-01,  1.150e-01, -6.500e-02,\n",
       "        0.000e+00, -1.000e-03,  2.200e-01, -0.000e+00, -1.150e-01,\n",
       "       -1.400e-02,  3.000e-03,  3.600e-02, -2.000e-03, -2.000e-03,\n",
       "       -2.000e-03, -3.670e-01, -1.500e-02, -2.500e-02, -1.000e-01,\n",
       "       -5.620e-01, -0.000e+00,  1.900e-02,  8.500e-02, -9.000e-03,\n",
       "       -1.460e-01, -2.400e-02, -3.650e-01,  2.280e-01, -2.490e-01,\n",
       "       -2.000e-03, -2.000e-03, -0.000e+00,  0.000e+00, -6.000e-03,\n",
       "        5.890e-01, -1.700e-02, -1.400e-02, -3.000e-03, -2.000e-02,\n",
       "       -3.400e-02, -1.970e-01, -3.900e-02,  4.000e-02,  8.000e-02,\n",
       "       -7.000e-02,  7.000e-03, -2.900e-02,  1.350e-01,  1.060e-01,\n",
       "       -1.110e-01, -5.000e-03, -8.000e-03,  5.200e-02,  5.050e-01,\n",
       "       -1.990e-01,  3.520e-01,  0.000e+00,  0.000e+00,  0.000e+00,\n",
       "       -2.600e-02, -1.080e-01, -1.190e-01, -1.770e-01, -5.000e-03,\n",
       "       -4.200e-02,  4.500e-02, -4.000e-03,  2.000e-03, -7.130e-01,\n",
       "       -1.270e-01, -5.100e-02, -8.000e-02, -8.390e-01, -4.000e-03,\n",
       "       -2.100e-02, -2.000e-03,  0.000e+00, -4.400e-02, -4.000e-02,\n",
       "       -3.000e-03,  1.360e-01,  3.200e-01, -1.000e-03, -8.000e-03,\n",
       "       -2.000e-03, -7.420e-01, -7.210e-01, -3.000e-03, -3.000e-03,\n",
       "       -1.000e-03, -1.000e-03, -1.060e-01, -0.000e+00, -2.000e-03,\n",
       "       -1.000e-03, -1.700e-02, -4.800e-01, -4.000e-03, -6.500e-02,\n",
       "        3.390e-01,  0.000e+00,  0.000e+00,  2.000e-03,  0.000e+00,\n",
       "        0.000e+00,  0.000e+00,  0.000e+00,  0.000e+00,  0.000e+00,\n",
       "       -1.000e-03, -2.000e-03,  4.700e-02, -2.400e-02, -1.000e-03,\n",
       "       -1.000e-03, -0.000e+00,  8.300e-02,  8.000e-03,  1.680e-01,\n",
       "       -2.000e-03,  9.500e-02, -1.990e-01, -2.100e-02, -9.000e-03,\n",
       "       -3.000e-02, -5.000e-03, -1.000e-03, -3.000e-03, -3.000e-03,\n",
       "       -1.600e-02, -9.000e-03, -9.000e-03,  6.400e-02,  2.000e-03,\n",
       "        0.000e+00,  1.000e-02,  7.010e-01, -2.500e-02, -1.500e-02,\n",
       "       -3.000e-03,  4.100e-01, -5.000e-03, -1.900e-02,  9.700e-02,\n",
       "       -3.800e-02,  1.500e-01,  6.280e-01, -0.000e+00, -5.000e-03,\n",
       "       -5.000e-03,  8.830e-01, -1.700e-02, -2.100e-02, -2.360e-01,\n",
       "       -2.000e-03, -1.000e-03, -1.500e-02,  8.400e-02, -4.100e-02,\n",
       "       -2.960e-01, -6.280e-01, -5.300e-01, -4.200e-02, -1.120e-01,\n",
       "       -1.890e-01, -2.200e-02, -2.700e-02, -3.200e-02, -7.000e-03,\n",
       "       -7.000e-03, -2.000e-03,  4.100e-02, -2.000e-03, -1.400e-02,\n",
       "        7.300e-01,  4.410e-01, -5.100e-02, -5.300e-02, -8.000e-03,\n",
       "       -2.300e-02, -3.570e-01, -3.480e-01,  7.100e-02, -1.180e-01,\n",
       "       -5.700e-02,  3.000e-02,  1.500e-02,  1.900e-02,  1.300e-02,\n",
       "        1.100e-01, -2.700e-02, -1.900e-02, -1.000e-03,  9.800e-02,\n",
       "       -8.000e-03, -6.000e-03,  5.820e-01, -0.000e+00,  4.860e-01,\n",
       "        6.650e-01, -1.600e-02, -1.000e-02, -1.280e-01, -2.000e-03,\n",
       "       -8.900e-02, -1.800e-02,  3.050e-01, -6.000e-03, -3.700e-02,\n",
       "       -1.000e-02,  0.000e+00,  1.200e-02,  0.000e+00, -8.800e-02,\n",
       "       -5.400e-02,  2.330e-01,  5.900e-02,  1.740e-01,  7.000e-03,\n",
       "       -0.000e+00, -3.000e-03, -4.160e-01, -8.000e-03, -1.800e-02,\n",
       "       -1.170e-01, -1.750e-01,  0.000e+00, -2.200e-02, -6.000e-03,\n",
       "       -7.000e-03, -1.580e-01, -3.700e-02, -0.000e+00, -2.500e-02,\n",
       "       -5.000e-03, -1.100e-02, -3.210e-01, -6.100e-02, -2.500e-02,\n",
       "        1.740e-01,  1.270e-01, -3.210e-01,  1.500e-02, -3.000e-03,\n",
       "       -0.000e+00, -3.890e-01, -4.620e-01,  1.900e-02, -1.420e-01,\n",
       "       -2.340e-01, -5.000e-03, -1.160e-01, -3.610e-01,  6.100e-02,\n",
       "        2.090e-01, -2.300e-01,  2.200e-02,  9.500e-02,  0.000e+00,\n",
       "       -4.500e-02, -2.720e-01,  9.000e-03,  2.730e-01,  1.030e-01,\n",
       "        2.300e-01, -7.200e-02,  1.530e-01,  3.000e-02,  2.600e-02,\n",
       "        1.000e-03,  1.000e-03,  1.000e-03, -1.310e-01, -2.000e-01,\n",
       "        5.700e-02,  9.800e-02, -9.000e-03,  2.000e-03, -1.570e-01,\n",
       "       -4.440e-01,  8.000e-02,  0.000e+00,  0.000e+00, -2.500e-02,\n",
       "       -4.000e-03, -1.540e-01, -2.280e-01, -4.400e-02,  1.300e-02,\n",
       "        6.000e-03,  5.000e-03, -1.200e-02, -1.200e-01, -1.120e-01,\n",
       "       -2.400e-02, -4.000e-03,  7.600e-02, -4.500e-02, -1.600e-02,\n",
       "       -1.300e-02, -1.500e-02,  3.100e-02,  2.680e-01, -0.000e+00,\n",
       "        0.000e+00, -2.400e-02, -6.600e-02, -1.770e-01, -2.000e-03,\n",
       "        7.800e-02,  1.010e-01, -4.800e-02,  6.500e-02,  3.400e-02,\n",
       "        3.000e-03,  1.740e-01, -3.240e-01, -1.000e-03, -3.100e-02,\n",
       "       -1.490e-01, -3.000e-03, -1.500e-02, -1.500e-02, -4.100e-02,\n",
       "       -1.900e-02,  9.600e-02, -1.370e-01, -1.310e-01, -6.300e-02,\n",
       "       -4.500e-02, -3.300e-02, -4.160e-01, -5.100e-02, -0.000e+00,\n",
       "        1.020e-01, -5.000e-02,  0.000e+00, -1.400e-02,  9.600e-02,\n",
       "        1.560e-01,  9.000e-02,  4.000e-03, -1.350e-01,  1.740e-01,\n",
       "        1.180e-01,  5.000e-03, -4.900e-02, -1.000e-03, -2.200e-02,\n",
       "        2.200e-01,  7.000e-03, -5.050e-01, -3.500e-02, -1.570e-01,\n",
       "       -3.000e-03,  6.900e-02,  0.000e+00, -9.000e-03, -6.000e-03,\n",
       "       -0.000e+00, -1.400e-02, -2.300e-02, -5.900e-02, -4.200e-02,\n",
       "        2.300e-02, -0.000e+00,  4.300e-02, -3.000e-03, -0.000e+00,\n",
       "        2.220e-01,  4.240e-01,  1.600e-02,  2.000e-03, -1.100e-02,\n",
       "        3.020e-01,  4.900e-02,  7.000e-03,  2.220e-01,  0.000e+00,\n",
       "        4.000e-03,  0.000e+00,  0.000e+00,  7.120e-01, -4.800e-02,\n",
       "       -1.190e-01,  3.100e-02,  2.340e-01,  2.750e-01, -2.000e-02,\n",
       "       -1.220e-01,  0.000e+00, -5.000e-03, -3.000e-03, -6.000e-03,\n",
       "       -0.000e+00, -4.600e-02, -1.000e-03,  1.390e-01, -5.500e-01,\n",
       "       -1.110e-01, -6.000e-03, -5.000e-03, -1.500e-02, -1.200e-02,\n",
       "        2.340e-01, -2.600e-02, -1.820e-01, -3.000e-03, -2.860e-01,\n",
       "        0.000e+00, -8.000e-03, -4.200e-02, -5.000e-03, -1.000e-03,\n",
       "       -2.000e-02, -0.000e+00, -1.400e-02, -2.000e-03, -1.000e-03,\n",
       "        1.127e+00, -1.000e-03, -1.900e-02, -7.700e-02, -1.200e-02,\n",
       "       -3.700e-02,  1.000e-03, -2.010e-01,  2.710e-01,  0.000e+00,\n",
       "       -9.680e-01, -5.900e-02,  3.590e-01, -1.000e-03, -1.000e-03,\n",
       "       -4.930e-01, -5.900e-02, -2.000e-03,  5.000e-02, -1.100e-02,\n",
       "       -2.500e-02, -1.300e-02, -2.100e-02, -5.800e-02,  1.920e-01,\n",
       "       -1.400e-01, -5.200e-02, -1.300e-01, -6.500e-02, -5.600e-02,\n",
       "       -2.000e-03, -1.230e-01,  1.580e-01,  1.270e-01,  1.090e-01,\n",
       "       -1.000e-03, -1.730e-01, -4.100e-02, -1.050e-01,  3.230e-01,\n",
       "        1.400e-02,  8.000e-03,  1.000e-03, -1.000e-03, -1.930e-01,\n",
       "       -4.000e-03, -4.000e-03, -1.200e-02, -5.000e-03, -2.000e-03,\n",
       "       -8.000e-03, -1.000e-03, -1.000e-03, -2.000e-03,  2.380e-01,\n",
       "       -0.000e+00, -3.560e-01, -2.050e-01,  1.490e-01,  4.930e-01,\n",
       "        2.160e-01,  6.600e-02,  3.610e-01,  3.640e-01,  3.750e-01,\n",
       "        1.000e-02, -7.500e-02, -5.930e-01,  1.710e-01,  6.470e-01,\n",
       "        1.720e-01,  1.600e-02,  3.100e-02,  1.820e-01,  2.730e-01,\n",
       "        1.200e-02, -4.000e-03, -2.000e-03, -5.500e-02,  2.960e-01,\n",
       "       -2.900e-02, -1.090e-01,  2.110e-01,  1.710e-01,  1.000e-03,\n",
       "       -5.730e-01,  4.950e-01,  1.850e-01,  1.000e-03,  0.000e+00,\n",
       "       -2.000e-02, -1.040e-01, -1.040e-01,  3.630e-01,  1.840e-01,\n",
       "        1.170e-01, -6.400e-02, -1.100e-02, -2.700e-02, -9.600e-02,\n",
       "       -2.000e-03, -0.000e+00, -3.000e-03, -5.190e-01, -5.000e-03,\n",
       "       -1.000e-03, -6.000e-03,  7.900e-02,  1.170e+00,  1.050e-01,\n",
       "       -6.000e-03,  4.000e-03, -7.000e-03, -3.140e-01, -1.100e-02,\n",
       "       -2.300e-02, -2.000e-03, -7.000e-02, -6.000e-03, -2.600e-02,\n",
       "       -8.100e-02, -4.300e-02, -3.000e-03, -1.700e-02,  1.030e-01,\n",
       "       -6.000e-03, -5.000e-03, -1.000e-03, -2.000e-03,  5.000e-03,\n",
       "       -6.500e-02,  1.580e-01,  1.600e-01, -7.600e-02,  5.400e-02,\n",
       "        2.000e-03, -1.580e-01,  1.080e-01,  0.000e+00, -2.200e-02,\n",
       "        0.000e+00,  1.330e-01,  1.250e-01, -2.800e-02, -1.970e-01,\n",
       "        1.230e-01,  5.000e-03,  3.210e-01,  0.000e+00,  0.000e+00,\n",
       "        0.000e+00, -2.200e-02,  1.900e-02,  0.000e+00,  2.120e-01,\n",
       "        6.100e-02,  6.200e-02,  1.410e-01,  1.000e-03, -1.500e-02,\n",
       "       -1.400e-02, -2.000e-03, -2.000e-03, -0.000e+00, -5.600e-01,\n",
       "       -8.000e-02, -2.100e-01, -1.100e-01, -0.000e+00, -9.600e-02,\n",
       "       -2.500e-02, -1.000e-02, -1.000e-03,  4.700e-01,  1.760e-01,\n",
       "       -1.000e-03,  4.000e-03,  0.000e+00, -1.000e-03,  7.030e-01,\n",
       "        5.100e-01, -3.050e-01,  1.890e-01, -6.100e-02, -1.700e-02,\n",
       "       -2.000e-03, -0.000e+00, -1.600e-02,  1.090e-01,  9.460e-01,\n",
       "       -2.230e-01,  4.350e-01, -1.200e-02, -7.000e-03, -9.400e-02,\n",
       "       -1.550e-01, -4.400e-02, -1.600e-02, -4.000e-03, -6.000e-01,\n",
       "       -7.000e-03, -9.000e-03, -2.000e-03, -3.700e-01, -9.000e-03,\n",
       "       -0.000e+00, -1.670e-01, -2.000e-03,  6.700e-02, -1.000e-03,\n",
       "       -5.400e-02, -1.100e-02,  3.830e-01, -4.000e-03, -1.000e-03,\n",
       "       -2.000e-03,  1.000e-03, -1.140e-01, -0.000e+00, -1.000e-03,\n",
       "       -6.000e-03, -6.100e-02, -1.270e-01, -2.070e-01, -6.200e-02,\n",
       "        2.110e-01,  1.300e-02,  3.800e-02, -5.240e-01,  2.960e-01,\n",
       "        1.870e-01, -1.400e-02, -2.380e-01, -8.900e-02, -0.000e+00,\n",
       "       -1.000e-03, -1.420e-01, -3.600e-02, -2.590e-01, -5.000e-03,\n",
       "       -1.120e-01, -2.540e-01, -5.000e-03, -1.210e-01,  7.210e-01,\n",
       "        2.720e-01,  3.750e-01, -2.770e-01, -5.000e-03, -1.218e+00,\n",
       "       -1.600e-01, -3.000e-03, -2.800e-02,  5.830e-01, -1.880e-01,\n",
       "       -2.000e-02, -2.100e-02, -1.570e-01, -1.800e-02, -3.000e-03,\n",
       "       -5.000e-02, -9.200e-01, -2.300e-02, -5.100e-02,  5.000e-03,\n",
       "        8.000e-03,  0.000e+00, -1.600e-02, -5.700e-02, -2.110e-01,\n",
       "        4.540e-01, -1.680e-01,  8.700e-02, -0.000e+00, -0.000e+00,\n",
       "       -8.000e-03,  0.000e+00, -0.000e+00, -2.700e-02, -9.000e-03,\n",
       "       -2.470e-01, -1.290e-01, -5.600e-02, -5.000e-03, -4.000e-03,\n",
       "       -4.000e-03,  0.000e+00, -2.000e-03, -3.000e-03,  1.000e-03,\n",
       "        2.000e-03, -5.000e-03, -1.000e-02, -2.880e-01, -1.300e-02,\n",
       "       -2.000e-03,  0.000e+00, -0.000e+00, -2.820e-01, -2.800e-02,\n",
       "        1.160e-01,  2.140e-01,  0.000e+00,  1.260e-01, -8.000e-03,\n",
       "        4.120e-01,  2.820e-01,  3.990e-01, -3.000e-03, -4.000e-03,\n",
       "       -5.400e-02, -5.680e-01,  1.300e-02,  1.000e-03, -0.000e+00,\n",
       "        3.800e-02,  2.730e-01, -2.800e-02, -1.780e-01, -3.000e-03,\n",
       "       -1.000e-03,  1.030e-01,  2.050e-01,  2.150e-01, -9.500e-02,\n",
       "        1.550e-01,  9.300e-02,  1.800e-02,  2.940e-01, -1.900e-02,\n",
       "        4.640e-01, -5.000e-03, -3.940e-01, -5.000e-02,  3.000e-03,\n",
       "       -1.000e-03, -1.000e-03, -0.000e+00, -2.700e-02, -1.000e-03,\n",
       "       -1.000e-02, -3.000e-03, -0.000e+00,  6.600e-02,  2.100e-02,\n",
       "        4.400e-01, -4.840e-01, -1.030e-01, -8.780e-01,  2.790e-01,\n",
       "       -1.335e+00,  1.166e+00, -3.800e-02, -1.710e-01,  1.687e+00,\n",
       "        4.180e-01, -1.520e-01,  5.260e-01, -1.126e+00,  5.300e-01,\n",
       "        2.540e-01, -1.379e+00, -9.600e-02,  2.530e-01, -6.000e-03])"
      ]
     },
     "execution_count": 35,
     "metadata": {},
     "output_type": "execute_result"
    }
   ],
   "source": [
    "model.coef_[0].round(3)"
   ]
  },
  {
   "cell_type": "code",
   "execution_count": 36,
   "metadata": {},
   "outputs": [
    {
     "data": {
      "text/plain": [
       "array([0.60804549, 0.03172303, 0.54376495, ..., 0.00676896, 0.99998974,\n",
       "       0.08366   ])"
      ]
     },
     "execution_count": 36,
     "metadata": {},
     "output_type": "execute_result"
    }
   ],
   "source": [
    "y_pred = model.predict_proba(X_val)[:, 1]\n",
    "y_pred"
   ]
  },
  {
   "cell_type": "code",
   "execution_count": 37,
   "metadata": {},
   "outputs": [],
   "source": [
    "y_avg = (y_pred >= 0.5)"
   ]
  },
  {
   "cell_type": "code",
   "execution_count": 38,
   "metadata": {},
   "outputs": [
    {
     "data": {
      "text/plain": [
       "0.92"
      ]
     },
     "execution_count": 38,
     "metadata": {},
     "output_type": "execute_result"
    }
   ],
   "source": [
    "total_acc = round((y_val == y_avg).mean(), 2)\n",
    "total_acc "
   ]
  },
  {
   "cell_type": "markdown",
   "metadata": {},
   "source": [
    "##### Ans: 0.95 is the closest to the answer"
   ]
  },
  {
   "cell_type": "code",
   "execution_count": null,
   "metadata": {},
   "outputs": [],
   "source": []
  },
  {
   "cell_type": "markdown",
   "metadata": {},
   "source": [
    "## Question 5"
   ]
  },
  {
   "cell_type": "markdown",
   "metadata": {},
   "source": [
    "##### Feature Elimination"
   ]
  },
  {
   "cell_type": "code",
   "execution_count": 39,
   "metadata": {},
   "outputs": [
    {
     "data": {
      "text/plain": [
       "['year',\n",
       " 'engine_hp',\n",
       " 'engine_cylinders',\n",
       " 'highway_mpg',\n",
       " 'city_mpg',\n",
       " 'popularity']"
      ]
     },
     "execution_count": 39,
     "metadata": {},
     "output_type": "execute_result"
    }
   ],
   "source": [
    "numerical_columns"
   ]
  },
  {
   "cell_type": "code",
   "execution_count": 40,
   "metadata": {},
   "outputs": [
    {
     "data": {
      "text/plain": [
       "['make', 'model', 'transmission_type', 'vehicle_style']"
      ]
     },
     "execution_count": 40,
     "metadata": {},
     "output_type": "execute_result"
    }
   ],
   "source": [
    "categorical_columns"
   ]
  },
  {
   "cell_type": "markdown",
   "metadata": {},
   "source": [
    "##### Excluding year variables"
   ]
  },
  {
   "cell_type": "code",
   "execution_count": 41,
   "metadata": {},
   "outputs": [
    {
     "name": "stdout",
     "output_type": "stream",
     "text": [
      "-0.014116659672681497\n"
     ]
    }
   ],
   "source": [
    "non_year_cols = ['engine_hp', 'engine_cylinders', 'highway_mpg', 'city_mpg','popularity']\n",
    "train_dict = data_train[categorical_columns + non_year_cols].to_dict(orient='records')\n",
    "X_train = dv.fit_transform(train_dict)\n",
    "\n",
    "val_dict = data_val[categorical_columns + non_year_cols].to_dict(orient='records')\n",
    "X_val = dv.transform(val_dict)\n",
    "\n",
    "model.fit(X_train, y_train)\n",
    "\n",
    "y_pred = model.predict_proba(X_val)[:, 1]\n",
    "y_avg = (y_pred >= 0.5)\n",
    "ny_acc = (y_val == y_avg).mean()\n",
    "\n",
    "# print(ny_acc)\n",
    "print(total_acc - ny_acc)"
   ]
  },
  {
   "cell_type": "markdown",
   "metadata": {},
   "source": [
    "##### Excluding engine_hp variables"
   ]
  },
  {
   "cell_type": "code",
   "execution_count": 42,
   "metadata": {},
   "outputs": [
    {
     "name": "stdout",
     "output_type": "stream",
     "text": [
      "0.021972303818715955\n"
     ]
    }
   ],
   "source": [
    "non_eng_cols = ['year', 'engine_cylinders', 'highway_mpg', 'city_mpg','popularity']\n",
    "train_dict = data_train[categorical_columns + non_eng_cols].to_dict(orient='records')\n",
    "X_train = dv.fit_transform(train_dict)\n",
    "\n",
    "val_dict = data_val[categorical_columns + non_eng_cols].to_dict(orient='records')\n",
    "X_val = dv.transform(val_dict)\n",
    "\n",
    "model.fit(X_train, y_train)\n",
    "\n",
    "y_pred = model.predict_proba(X_val)[:, 1]\n",
    "y_avg = (y_pred >= 0.5)\n",
    "ne_acc = (y_val == y_avg).mean()\n",
    "\n",
    "# print(ne_acc)\n",
    "print(total_acc - ne_acc)"
   ]
  },
  {
   "cell_type": "markdown",
   "metadata": {},
   "source": [
    "##### Excluding transmission_type variables"
   ]
  },
  {
   "cell_type": "code",
   "execution_count": 43,
   "metadata": {},
   "outputs": [
    {
     "name": "stdout",
     "output_type": "stream",
     "text": [
      "-0.006143516575744856\n"
     ]
    }
   ],
   "source": [
    "non_trans_cols = ['make', 'model', 'vehicle_style']\n",
    "train_dict = data_train[non_trans_cols + numerical_columns].to_dict(orient='records')\n",
    "X_train = dv.fit_transform(train_dict)\n",
    "\n",
    "val_dict = data_val[non_trans_cols + numerical_columns].to_dict(orient='records')\n",
    "X_val = dv.transform(val_dict)\n",
    "\n",
    "model.fit(X_train, y_train)\n",
    "\n",
    "y_pred = model.predict_proba(X_val)[:, 1]\n",
    "y_avg = (y_pred >= 0.5)\n",
    "nt_acc = (y_val == y_avg).mean()\n",
    "\n",
    "# print(nt_acc)\n",
    "print(total_acc - nt_acc)"
   ]
  },
  {
   "cell_type": "markdown",
   "metadata": {},
   "source": [
    "##### Excluding city_mpg variables"
   ]
  },
  {
   "cell_type": "code",
   "execution_count": 44,
   "metadata": {},
   "outputs": [
    {
     "name": "stdout",
     "output_type": "stream",
     "text": [
      "-0.02208980276961814\n"
     ]
    }
   ],
   "source": [
    "non_city_cols = ['year', 'engine_cylinders', 'highway_mpg', 'engine_hp','popularity']\n",
    "train_dict = data_train[categorical_columns + non_city_cols].to_dict(orient='records')\n",
    "X_train = dv.fit_transform(train_dict)\n",
    "\n",
    "val_dict = data_val[categorical_columns + non_city_cols].to_dict(orient='records')\n",
    "X_val = dv.transform(val_dict)\n",
    "\n",
    "model.fit(X_train, y_train)\n",
    "\n",
    "y_pred = model.predict_proba(X_val)[:, 1]\n",
    "y_avg = (y_pred >= 0.5)\n",
    "nc_acc = (y_val == y_avg).mean()\n",
    "\n",
    "# print(ne_acc)\n",
    "print(total_acc - nc_acc) "
   ]
  },
  {
   "cell_type": "markdown",
   "metadata": {},
   "source": [
    "##### Ans: 'transmission_type' has the snallest difference"
   ]
  },
  {
   "cell_type": "code",
   "execution_count": null,
   "metadata": {},
   "outputs": [],
   "source": []
  },
  {
   "cell_type": "markdown",
   "metadata": {},
   "source": [
    "## Question 6"
   ]
  },
  {
   "cell_type": "code",
   "execution_count": 45,
   "metadata": {},
   "outputs": [
    {
     "data": {
      "text/plain": [
       "0        46135\n",
       "1        40650\n",
       "2        36350\n",
       "3        29450\n",
       "4        34500\n",
       "         ...  \n",
       "11909    46120\n",
       "11910    56670\n",
       "11911    50620\n",
       "11912    50920\n",
       "11913    28995\n",
       "Name: price, Length: 11914, dtype: int64"
      ]
     },
     "execution_count": 45,
     "metadata": {},
     "output_type": "execute_result"
    }
   ],
   "source": [
    "data.price"
   ]
  },
  {
   "cell_type": "code",
   "execution_count": 46,
   "metadata": {},
   "outputs": [],
   "source": [
    "# applying log transformation to 'price'\n",
    "pr_train = np.log1p(data_train.price.values)\n",
    "pr_val = np.log1p(data_val.price.values)\n",
    "pr_test = np.log1p(data_test.price.values)"
   ]
  },
  {
   "cell_type": "code",
   "execution_count": 47,
   "metadata": {},
   "outputs": [],
   "source": [
    "def rmse(y, y_pred):\n",
    "    error = y_pred - y\n",
    "    mse = (error ** 2).mean()\n",
    "    return np.sqrt(mse)"
   ]
  },
  {
   "cell_type": "code",
   "execution_count": 48,
   "metadata": {},
   "outputs": [],
   "source": [
    "#import the ridge regression model\n",
    "from sklearn.linear_model import Ridge"
   ]
  },
  {
   "cell_type": "code",
   "execution_count": 49,
   "metadata": {},
   "outputs": [
    {
     "name": "stdout",
     "output_type": "stream",
     "text": [
      "RMSE value with 0 gives: 0.526\n",
      "RMSE value with 0.01 gives: 0.526\n",
      "RMSE value with 0.1 gives: 0.526\n",
      "RMSE value with 1 gives: 0.526\n",
      "RMSE value with 10 gives: 0.526\n"
     ]
    }
   ],
   "source": [
    "for a in [0, 0.01, 0.1, 1, 10]:\n",
    "    clf = Ridge(solver=\"sag\", alpha=a, random_state=42) #seed to 42\n",
    "    clf.fit(X_train, pr_train)\n",
    "    y_pred = clf.predict(X_val)\n",
    "    rounded_values = np.round(rmse(pr_val, y_pred), 3) # 3 decimal digits\n",
    "    print(f'RMSE value with {a} gives: {rounded_values}')"
   ]
  },
  {
   "cell_type": "markdown",
   "metadata": {},
   "source": [
    "##### Ans: 0 is selected with the smallest alpha"
   ]
  },
  {
   "cell_type": "code",
   "execution_count": null,
   "metadata": {},
   "outputs": [],
   "source": []
  },
  {
   "cell_type": "code",
   "execution_count": null,
   "metadata": {},
   "outputs": [],
   "source": []
  }
 ],
 "metadata": {
  "kernelspec": {
   "display_name": "Python 3",
   "language": "python",
   "name": "python3"
  },
  "language_info": {
   "codemirror_mode": {
    "name": "ipython",
    "version": 3
   },
   "file_extension": ".py",
   "mimetype": "text/x-python",
   "name": "python",
   "nbconvert_exporter": "python",
   "pygments_lexer": "ipython3",
   "version": "3.6.1"
  }
 },
 "nbformat": 4,
 "nbformat_minor": 4
}
